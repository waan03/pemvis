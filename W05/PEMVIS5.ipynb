{
  "nbformat": 4,
  "nbformat_minor": 0,
  "metadata": {
    "colab": {
      "provenance": []
    },
    "kernelspec": {
      "name": "python3",
      "display_name": "Python 3"
    },
    "language_info": {
      "name": "python"
    }
  },
  "cells": [
    {
      "cell_type": "code",
      "execution_count": null,
      "metadata": {
        "colab": {
          "base_uri": "https://localhost:8080/"
        },
        "id": "1F_iDiwf4hoY",
        "outputId": "0a4604fa-115f-4ae7-c89c-d8686eb3d286"
      },
      "outputs": [
        {
          "output_type": "stream",
          "name": "stdout",
          "text": [
            "int32\n",
            "bool\n"
          ]
        }
      ],
      "source": [
        "import numpy as np\n",
        "import matplotlib.pyplot as plt\n",
        "\n",
        "row=10\n",
        "col=10\n",
        "A = np.array(['INF', 'SIF', 'TSP'])\n",
        "B = np.array([-3, 0, 4, 7])\n",
        "new_B=B.astype('i')\n",
        "print (new_B.dtype)\n",
        "C=np.array([-3, 0, 4, 7])\n",
        "new_C= B.astype(bool)\n",
        "print(new_C.dtype)\n",
        "\n",
        "Gambar = np.zeros(shape=(row, col, 3), dtype=np.uint16)\n",
        "Gambar_new =np.uint8(Gambar)\n"
      ]
    },
    {
      "cell_type": "code",
      "source": [
        "print(\"\\033c\")\n",
        "#To close all\n",
        "#PART 1\n",
        "\n",
        "\n",
        "#Constructing a Set (there are two methods)\n",
        "Set_1 = {\"Toyota\", \"Daihatsu\", \"Honda\"}\n",
        "Set_2 = set((\"Toyota\", \"Daihatsu\", \"Honda\"))\n",
        "print(\"Tipe data Set_1 adalah \", type(Set_1))\n",
        "print(\"Tipe data Set_2 adalah \", type(Set_2))\n",
        "print(\"Data Set_1: \", Set_1)\n",
        "print(\"Data Set_2: \", Set_2)\n",
        "print(\"-------------------------------------\")\n",
        "\n",
        "#Print every item of Set_1\n",
        "for x in Set_1:\n",
        " print(x)\n",
        "print(\"--------------------------------------\")\n",
        "\n",
        "#Check the length of the set\n",
        "print(len(Set_1))\n",
        "\n",
        "#Check if a key exist\n",
        "if \"Daihatsu\" in Set_1:\n",
        " print(\"Yes, 'Daihatsu is an item in Set_1.\")\n",
        "\n",
        "#Add an item\n",
        "Set_1.add(\"Mitsubishi\")\n",
        "print(Set_1)\n",
        "\n",
        "#Add multiple items\n",
        "Set_1.update([\"Suzuki\", \"Mazda\", \"Nissan\"])\n",
        "print(Set_1)"
      ],
      "metadata": {
        "colab": {
          "base_uri": "https://localhost:8080/"
        },
        "id": "4aLoVel05GMj",
        "outputId": "7442b688-3898-4232-e838-db5df46a9b67"
      },
      "execution_count": null,
      "outputs": [
        {
          "output_type": "stream",
          "name": "stdout",
          "text": [
            "\u001bc\n",
            "Tipe data Set_1 adalah  <class 'set'>\n",
            "Tipe data Set_2 adalah  <class 'set'>\n",
            "Data Set_1:  {'Toyota', 'Daihatsu', 'Honda'}\n",
            "Data Set_2:  {'Toyota', 'Daihatsu', 'Honda'}\n",
            "-------------------------------------\n",
            "Toyota\n",
            "Daihatsu\n",
            "Honda\n",
            "--------------------------------------\n",
            "3\n",
            "Yes, 'Daihatsu is an item in Set_1.\n",
            "{'Toyota', 'Daihatsu', 'Mitsubishi', 'Honda'}\n",
            "{'Honda', 'Nissan', 'Suzuki', 'Daihatsu', 'Mazda', 'Mitsubishi', 'Toyota'}\n"
          ]
        }
      ]
    },
    {
      "cell_type": "code",
      "source": [
        "#PART 2\n",
        "#Remove an item (method 1) Set_1.remove(\"Honda\")\n",
        "print(Set_1)\n",
        "\n",
        "#Remove an item (method 2)\n",
        "Set_1.discard (\"Mazda\")\n",
        "print(Set_1)\n",
        "\n",
        "#Delete (pop) the last inserted key\n",
        "Set_1.pop()\n",
        "print(Set_1)\n",
        "\n",
        "#Clear the set\n",
        "Set_1.clear()\n",
        "print(Set_1)\n",
        "\n",
        "#Delete the set\n",
        "del Set_1\n",
        "print(\"-----------------------------\")\n",
        "\n",
        "#Union of two sets\n",
        "set1={\"a\", \"b\", \"c\"}\n",
        "set2= {1, 2, 3}\n",
        "set3=set1.union(set2)\n",
        "print(set3)\n",
        "print(\"-----------------------------\")\n",
        "\n",
        "#Set 1 takes copies of all items of set 2\n",
        "set1 = {\"a\", \"b\", \"c\"}\n",
        "set2= {1, 2, 3}\n",
        "set1.update(set2)\n",
        "print(set1)"
      ],
      "metadata": {
        "colab": {
          "base_uri": "https://localhost:8080/"
        },
        "id": "W9nLMzss7dkF",
        "outputId": "81b60071-b943-4d4a-e815-cfbff9b9264f"
      },
      "execution_count": null,
      "outputs": [
        {
          "output_type": "stream",
          "name": "stdout",
          "text": [
            "{'Honda', 'Nissan', 'Suzuki', 'Daihatsu', 'Mazda', 'Mitsubishi', 'Toyota'}\n",
            "{'Honda', 'Nissan', 'Suzuki', 'Daihatsu', 'Mitsubishi', 'Toyota'}\n",
            "{'Nissan', 'Suzuki', 'Daihatsu', 'Mitsubishi', 'Toyota'}\n",
            "set()\n",
            "-----------------------------\n",
            "{'a', 1, 2, 3, 'c', 'b'}\n",
            "-----------------------------\n",
            "{'a', 1, 2, 3, 'c', 'b'}\n"
          ]
        }
      ]
    },
    {
      "cell_type": "code",
      "source": [
        "#Case 1\n",
        "print(\"Case 1\")\n",
        "#Data bertipe Boolean yang Kita Deklarasikan (Cara Standar)\n",
        "f = bool(True)\n",
        "g = bool (False)\n",
        "print(f)\n",
        "print(g)\n",
        "print(\"=======================================\")\n",
        "\n",
        "#Case 2\n",
        "print(\"Case 2\")\n",
        "#Data Bertipe Boolean Dalam Berbagai Konteks\n",
        "#Tercatat Dengan Sendirinya oleh Komputer tanpa Deklarasi.\n",
        "print(3>2)\n",
        "print(3+2==5)\n",
        "print (3<2)\n",
        "print(\"=======================================\")\n",
        "\n",
        "#Case 3\n",
        "print(\"Case 3\")\n",
        "#Data Bertipe Boolean Dalam Berbagai Konteks\n",
        "#Tercatat Dengan Sendirinya oleh Komputer tanpa Deklarasi.\n",
        "Penghasilan= 20000000\n",
        "PenghasilanTanpaPajak = 4000000\n",
        "if Penghasilan <= PenghasilanTanpaPajak:\n",
        "  PajakYangHarusDibayar = 0\n",
        "\n",
        "if Penghasilan > PenghasilanTanpaPajak:\n",
        "  PajakYangHarusDibayar = 0.1 * Penghasilan\n",
        "print(\"Pajak yang harus Anda bayar: Rp \", PajakYangHarusDibayar)"
      ],
      "metadata": {
        "colab": {
          "base_uri": "https://localhost:8080/"
        },
        "id": "U0-Fybvv8hOd",
        "outputId": "17b11471-3b0f-43c5-88f1-c91457886e5e"
      },
      "execution_count": null,
      "outputs": [
        {
          "output_type": "stream",
          "name": "stdout",
          "text": [
            "Case 1\n",
            "True\n",
            "False\n",
            "=======================================\n",
            "Case 2\n",
            "True\n",
            "True\n",
            "False\n",
            "=======================================\n",
            "Case 3\n",
            "Pajak yang harus Anda bayar: Rp  2000000.0\n"
          ]
        }
      ]
    },
    {
      "cell_type": "code",
      "source": [
        "\n",
        "\n",
        "#PART 2\n",
        "#Case 4\n",
        "print(\"Case 4\")\n",
        "#Semua data yang tidak nol (kosong) memiliki nilai Boolean True\n",
        "a = 3\n",
        "b = \"Ini data string.\"\n",
        "c = (\"laptop\", \"buku\", \"ballpen\")\n",
        "d = [\"laptop\", \"buku\", \"ballpen\"]\n",
        "\n",
        "#integer\n",
        "#string\n",
        "#tuple\n",
        "#list\n",
        "#set\n",
        "e = {\"laptop\":\"asus\", \"buku\":\"buku_teks\", \"ballpen\": \"arrow\"} #dictionary\n",
        "f = {1, 2, 3, 4, 5}\n",
        "print(bool(a))\n",
        "print(bool(b))\n",
        "print (bool(c))\n",
        "print(bool(d))\n",
        "print(bool(e))\n",
        "print (bool(f))\n",
        "print(\"=================================\")"
      ],
      "metadata": {
        "colab": {
          "base_uri": "https://localhost:8080/"
        },
        "id": "vVgWyJao9cEi",
        "outputId": "a26726c0-ac50-42a4-8862-90f33fb8d490"
      },
      "execution_count": null,
      "outputs": [
        {
          "output_type": "stream",
          "name": "stdout",
          "text": [
            "Case 4\n",
            "True\n",
            "True\n",
            "True\n",
            "True\n",
            "True\n",
            "True\n",
            "=================================\n"
          ]
        }
      ]
    },
    {
      "cell_type": "code",
      "source": [
        "#PART 3\n",
        "#Case 5\n",
        "print(\"Case 5\")\n",
        "#Variabel yang kosong memiliki nilai Boolean False\n",
        "a = 0\n",
        "b = \"\"\n",
        "C = ()\n",
        "d = []\n",
        "e = {}\n",
        "#integer null\n",
        "#string kosong\n",
        "#tuple kosong\n",
        "#list kosong\n",
        "#dictionary/set kosong\n",
        "print(bool(a))\n",
        "print(bool(b))\n",
        "print(bool(c))\n",
        "print(bool(d))\n",
        "print(bool(e))\n",
        "print(\"===============\")\n",
        "#Case 6\n",
        "print(\"Case 6\")\n",
        "#Variabel yang panjangnya nol memiliki nilai Boolean False\n",
        "class myclass():\n",
        " def __len__(self):\n",
        "  return 0\n",
        "print (bool (myclass()))\n",
        "print(\"================\")"
      ],
      "metadata": {
        "colab": {
          "base_uri": "https://localhost:8080/"
        },
        "id": "gp9dcwTy98YP",
        "outputId": "ecb0055f-f4aa-491c-eb14-e0d113a6ff57"
      },
      "execution_count": null,
      "outputs": [
        {
          "output_type": "stream",
          "name": "stdout",
          "text": [
            "Case 5\n",
            "False\n",
            "False\n",
            "True\n",
            "False\n",
            "False\n",
            "=====\n",
            "Case 6\n",
            "False\n",
            "================\n"
          ]
        }
      ]
    },
    {
      "cell_type": "code",
      "source": [
        "import matplotlib.pyplot as plt\n",
        "\n",
        "# Meminta pengguna untuk memasukkan dua angka\n",
        "angka_1 = float(input(\"Masukkan angka pertama: \"))\n",
        "angka_2 = float(input(\"Masukkan angka kedua: \"))\n",
        "\n",
        "# Menyiapkan data untuk plot\n",
        "labels = ['Angka 1', 'Angka 2']\n",
        "values = [angka_1, angka_2]\n",
        "\n",
        "# Membuat plot grafik batang\n",
        "plt.bar(labels, values)\n",
        "plt.xlabel('Angka')\n",
        "plt.ylabel('Nilai')\n",
        "plt.title('Perbandingan Angka')\n",
        "\n",
        "# Menampilkan informasi tentang perbandingan kedua angka\n",
        "if angka_1 == angka_2:\n",
        "    plt.text(0.5, max(values) * 0.9, 'Kedua angka sama')\n",
        "elif angka_1 > angka_2:\n",
        "    plt.text(0.5, max(values) * 0.9, 'Angka 1 lebih besar')\n",
        "else:\n",
        "    plt.text(0.5, max(values) * 0.9, 'Angka 2 lebih besar')\n",
        "\n",
        "plt.show()\n"
      ],
      "metadata": {
        "id": "Q6fMFxaF-iPt"
      },
      "execution_count": null,
      "outputs": []
    },
    {
      "cell_type": "code",
      "source": [
        "import matplotlib.pyplot as plt\n",
        "\n",
        "angka = [1, 2, 3, 4, 5, 6, 7, 8, 9, 10]\n",
        "\n",
        "angka_terpilih = []\n",
        "angka_tidak_terpilih = []\n",
        "\n",
        "\n",
        "for num in angka:\n",
        "    if (num > 5 and num % 2 == 0) or num < 3:\n",
        "        angka_terpilih.append(num)\n",
        "    else:\n",
        "        angka_tidak_terpilih.append(num)\n",
        "\n",
        "plt.bar([\"Terpilih\", \"Tidak Terpilih\"], [len(angka_terpilih), len(angka_tidak_terpilih)], color=['green', 'red'])\n",
        "plt.xlabel('Kondisi')\n",
        "plt.ylabel('Jumlah Angka')\n",
        "plt.title('Perbandingan Angka yang Memenuhi Kondisi')\n",
        "plt.show()\n"
      ],
      "metadata": {
        "id": "5rGYIGzp_KPv"
      },
      "execution_count": null,
      "outputs": []
    }
  ]
}