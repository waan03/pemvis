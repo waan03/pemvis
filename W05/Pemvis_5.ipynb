{
  "nbformat": 4,
  "nbformat_minor": 0,
  "metadata": {
    "colab": {
      "provenance": []
    },
    "kernelspec": {
      "name": "python3",
      "display_name": "Python 3"
    },
    "language_info": {
      "name": "python"
    }
  },
  "cells": [
    {
      "cell_type": "code",
      "execution_count": null,
      "metadata": {
        "colab": {
          "base_uri": "https://localhost:8080/"
        },
        "id": "8rL4IQSE54YY",
        "outputId": "e28c7403-922b-4533-900d-f1c3f80d6616"
      },
      "outputs": [
        {
          "output_type": "stream",
          "name": "stdout",
          "text": [
            "uint32\n",
            "bool\n"
          ]
        }
      ],
      "source": [
        "import numpy as np\n",
        "import matplotlib.pyplot as plt\n",
        "row =3\n",
        "col = 4\n",
        "\n",
        "A = np.array(['INF', 'SIF', 'TSP'])\n",
        "B = np.array([-3, 0, 4, 7])\n",
        "new_B = B.astype('I')\n",
        "print (new_B.dtype)\n",
        "C = np.array([-3, 0, 4, 7])\n",
        "new_C = B.astype(bool)\n",
        "print(new_C.dtype)\n",
        "Gambar = np.zeros(shape=(row, col, 3), dtype=np.uint16)\n",
        "Gambar_new = np.uint8(Gambar)"
      ]
    },
    {
      "cell_type": "code",
      "source": [
        "print(\"\\033c\")\n",
        "#To close all\n",
        "#PART 1\n",
        "#Constructing a Set (there are two methods)\n",
        "Set_1 = {\"Toyota\", \"Daihatsu\", \"Honda\"}\n",
        "Set_2 = set((\"Toyota\", \"Daihatsu\", \"Honda\"))\n",
        "\n",
        "print(\"Tipe data Set 1 adalah \", type(Set_1))\n",
        "print(\"Tipe data Set 2 adalah \", type(Set_2))\n",
        "print(\"-------------------------------\")\n",
        "print(\"Data Set_1: \", Set_1)\n",
        "print(\"Data Set_2: \", Set_2)\n",
        "print(\"-------------------------------\")\n",
        "for x in Set_1:\n",
        "  print(x)\n",
        "print(\"-------------------------------\")\n",
        "\n",
        "#Check the length of the set\n",
        "print(len(Set_1))\n",
        "\n",
        "if \"Daihatsu\" in Set_1:\n",
        "  print(\"Yes, 'Daihatsu is an item in Set_1.\")\n",
        "\n",
        "#Add an item\n",
        "Set_1.add(\"Mitsubishi\")\n",
        "print(Set_1)\n",
        "#Add multiple items\n",
        "\n",
        "Set_1.update([\"Suzuki\", \"Mazda\", \"Nissan\"])\n",
        "print(Set_1)"
      ],
      "metadata": {
        "colab": {
          "base_uri": "https://localhost:8080/"
        },
        "id": "RjC44ccT6N_Z",
        "outputId": "419e1ea5-a341-4425-f0c4-ca68afba553b"
      },
      "execution_count": null,
      "outputs": [
        {
          "output_type": "stream",
          "name": "stdout",
          "text": [
            "\u001bc\n",
            "Tipe data Set 1 adalah  <class 'set'>\n",
            "Tipe data Set 2 adalah  <class 'set'>\n",
            "-------------------------------\n",
            "Data Set_1:  {'Toyota', 'Honda', 'Daihatsu'}\n",
            "Data Set_2:  {'Toyota', 'Honda', 'Daihatsu'}\n",
            "-------------------------------\n",
            "Toyota\n",
            "Honda\n",
            "Daihatsu\n",
            "-------------------------------\n",
            "3\n",
            "Yes, 'Daihatsu is an item in Set_1.\n",
            "{'Toyota', 'Honda', 'Daihatsu', 'Mitsubishi'}\n",
            "{'Daihatsu', 'Mazda', 'Honda', 'Mitsubishi', 'Toyota', 'Nissan', 'Suzuki'}\n"
          ]
        }
      ]
    },
    {
      "cell_type": "markdown",
      "source": [
        "Part 2"
      ],
      "metadata": {
        "id": "RFluXhg2-sX-"
      }
    },
    {
      "cell_type": "code",
      "source": [
        "Set_1.remove(\"Honda\")\n",
        "print(Set_1)\n",
        "\n",
        "#Remove an item (method 2)\n",
        "Set_1.discard (\"Mazda\")\n",
        "print(Set_1)\n",
        "\n",
        "#Delete (pop) the last inserted key\n",
        "Set_1.pop()\n",
        "print(Set_1)\n",
        "\n",
        "#Clear the set\n",
        "Set_1.clear()\n",
        "print (Set_1)\n",
        "\n",
        "#Delete the set\n",
        "del Set_1\n",
        "print(\"-------------------------------\")\n",
        "\n",
        "#Union of two sets\n",
        "set1 = {\"a\", \"b\", \"c\"}\n",
        "set2 = {1, 2, 3}\n",
        "set3 = set1.union(set2)\n",
        "print(set3)\n",
        "print(\"-------------------------------\")\n",
        "\n",
        "#Set_1 takes copies of all items of set 2\n",
        "set1 = {\"a\", \"b\", \"c\"}\n",
        "set2 = {1, 2, 3}\n",
        "set1.update(set2)\n",
        "print(set1)"
      ],
      "metadata": {
        "colab": {
          "base_uri": "https://localhost:8080/"
        },
        "id": "kUu84Z_G7QWt",
        "outputId": "1f16f905-61f5-4523-930c-a1e548ab771c"
      },
      "execution_count": null,
      "outputs": [
        {
          "output_type": "stream",
          "name": "stdout",
          "text": [
            "{'Daihatsu', 'Mazda', 'Mitsubishi', 'Toyota', 'Nissan', 'Suzuki'}\n",
            "{'Daihatsu', 'Mitsubishi', 'Toyota', 'Nissan', 'Suzuki'}\n",
            "{'Mitsubishi', 'Toyota', 'Nissan', 'Suzuki'}\n",
            "set()\n",
            "-------------------------------\n",
            "{1, 2, 3, 'b', 'c', 'a'}\n",
            "-------------------------------\n",
            "{1, 2, 3, 'b', 'c', 'a'}\n"
          ]
        }
      ]
    },
    {
      "cell_type": "markdown",
      "source": [
        "Boolean"
      ],
      "metadata": {
        "id": "1uALMDeL_G6-"
      }
    },
    {
      "cell_type": "code",
      "source": [
        "print(\"Case 1\")\n",
        "#Data bertipe Boolean yang Kita Deklarasikan (Cara Standar)\n",
        "f = bool(True)\n",
        "g= bool(False)\n",
        "print(f)\n",
        "print(g)\n",
        "print(\"======\")\n",
        "\n",
        "#Case 2\n",
        "print(\"Case 2\")\n",
        "#Data Bertipe Boolean Dalam Berbagai Konteks\n",
        "#Tercatat Dengan Sendirinya oleh Komputer tanpa Deklarasi.\n",
        "print (3>2)\n",
        "print (3+2==5)\n",
        "print(3<2)\n",
        "print(\"===\")\n",
        "\n",
        "#Case 3\n",
        "print(\"Case 3\")\n",
        "#Data Bertipe Boolean Dalam Berbagai Konteks\n",
        "#Tercatat Dengan Sendirinya oleh Komputer tanpa Deklarasi.\n",
        "Penghasilan = 20000000\n",
        "PenghasilanTanpaPajak = 4000000\n",
        "if Penghasilan <= PenghasilanTanpaPajak:\n",
        "  PajakYangHarusDibayar = 0\n",
        "if Penghasilan > PenghasilanTanpaPajak:\n",
        "  PajakYangHarusDibayar = 0.1 * Penghasilan\n",
        "\n",
        "print(\"Pajak yang harus Anda bayar: Rp \", PajakYangHarusDibayar)"
      ],
      "metadata": {
        "colab": {
          "base_uri": "https://localhost:8080/"
        },
        "id": "B32BjdMX_FDU",
        "outputId": "062e647b-8316-4496-c2b0-64581fcc58b4"
      },
      "execution_count": null,
      "outputs": [
        {
          "output_type": "stream",
          "name": "stdout",
          "text": [
            "Case 1\n",
            "True\n",
            "False\n",
            "======\n",
            "Case 2\n",
            "True\n",
            "True\n",
            "False\n",
            "===\n",
            "Case 3\n",
            "Pajak yang harus Anda bayar: Rp  2000000.0\n"
          ]
        }
      ]
    },
    {
      "cell_type": "code",
      "source": [
        "#PART 2\n",
        "#Case 4\n",
        "print(\"Case 4\")\n",
        "#Semua data yang tidak nol (kosong) memiliki nilai Boolean True\n",
        "a = 3\n",
        "b = \"Ini data string.\"\n",
        "c = (\"laptop\", \"buku\", \"ballpen\")\n",
        "d = [\"laptop\", \"buku\", \"ballpen\"]\n",
        "\n",
        "#integer\n",
        "#string\n",
        "#tuple\n",
        "#list\n",
        "#set\n",
        "e = {\"laptop\":\"asus\", \"buku\":\"buku_teks\", \"ballpen\": \"arrow\"} #dictionary\n",
        "f = {1, 2, 3, 4, 5}\n",
        "print(bool(a))\n",
        "print(bool(b))\n",
        "print (bool(c))\n",
        "print(bool(d))\n",
        "print(bool(e))\n",
        "print (bool(f))\n",
        "print(\"=================================\")"
      ],
      "metadata": {
        "id": "0h28P6dNGWE_",
        "outputId": "3ddf7aad-46e0-40fc-9713-cd0820aca6f2",
        "colab": {
          "base_uri": "https://localhost:8080/"
        }
      },
      "execution_count": null,
      "outputs": [
        {
          "output_type": "stream",
          "name": "stdout",
          "text": [
            "Case 4\n",
            "True\n",
            "True\n",
            "True\n",
            "True\n",
            "True\n",
            "True\n",
            "=================================\n"
          ]
        }
      ]
    },
    {
      "cell_type": "code",
      "source": [
        "#PART 3\n",
        "#Case 5\n",
        "print(\"Case 5\")\n",
        "#Variabel yang kosong memiliki nilai Boolean False\n",
        "a = 0\n",
        "b = \"\"\n",
        "C = ()\n",
        "d = []\n",
        "e = {}\n",
        "#integer null\n",
        "#string kosong\n",
        "#tuple kosong\n",
        "#list kosong\n",
        "#dictionary/set kosong\n",
        "print(bool(a))\n",
        "print(bool(b))\n",
        "print(bool(c))\n",
        "print(bool(d))\n",
        "print(bool(e))\n",
        "print(\"===============\")\n",
        "#Case 6\n",
        "print(\"Case 6\")\n",
        "#Variabel yang panjangnya nol memiliki nilai Boolean False\n",
        "class myclass():\n",
        " def __len__(self):\n",
        "  return 0\n",
        "print (bool (myclass()))\n",
        "print(\"================\")"
      ],
      "metadata": {
        "colab": {
          "base_uri": "https://localhost:8080/"
        },
        "id": "XiDqThIL_g7L",
        "outputId": "9e2987e2-b1ee-4d8b-b306-33eaa818e276"
      },
      "execution_count": null,
      "outputs": [
        {
          "output_type": "stream",
          "name": "stdout",
          "text": [
            "Case 5\n",
            "False\n",
            "False\n",
            "True\n",
            "False\n",
            "False\n",
            "===============\n",
            "Case 6\n",
            "False\n",
            "================\n"
          ]
        }
      ]
    }
  ]
}